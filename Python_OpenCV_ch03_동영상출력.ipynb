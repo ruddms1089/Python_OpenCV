{
 "cells": [
  {
   "cell_type": "markdown",
   "id": "f47858bf",
   "metadata": {},
   "source": [
    "3. 동영상 출력\n",
    "비디오 영상 출력"
   ]
  },
  {
   "cell_type": "code",
   "execution_count": 3,
   "id": "d3a28983",
   "metadata": {},
   "outputs": [
    {
     "name": "stdout",
     "output_type": "stream",
     "text": [
      "사용자 입력에 의해 종료합니다.\n"
     ]
    }
   ],
   "source": [
    "import cv2\n",
    "\n",
    "# 비디오 불러오기\n",
    "cap = cv2.VideoCapture(\"./data/r.mp4\")\n",
    "\n",
    "if cap.isOpened() == False:\n",
    "    print(\"동영상을 열지 못했습니다.\")\n",
    "    exit(1)\n",
    "    \n",
    "# 반복횟수 O : for(게시글) / 반복횟수 X : while(키오스크)\n",
    "while True : \n",
    "    # ret(True, False), frame(영상 프레임)\n",
    "    ret, frame = cap.read()\n",
    "    if not ret: \n",
    "        print(\"더 이상 가져올 프레임이 없어요\")\n",
    "        break\n",
    "        \n",
    "    cv2.imshow(\"video\", frame)\n",
    "    \n",
    "    if cv2.waitKey(25) == ord(\"q\"):\n",
    "        print(\"사용자 입력에 의해 종료합니다.\")\n",
    "        break\n",
    "        \n",
    "cap.release()\n",
    "cv2.destroyAllWindows()"
   ]
  },
  {
   "cell_type": "markdown",
   "id": "b658281b",
   "metadata": {},
   "source": [
    "카메라(웹캠)"
   ]
  },
  {
   "cell_type": "code",
   "execution_count": null,
   "id": "2ab3a7c0",
   "metadata": {},
   "outputs": [],
   "source": [
    "import cv2\n",
    "\n",
    "# 매개변수\n",
    "#  - 경로 > 해당 영상 불러오기\n",
    "#  - 숫자(인덱스) > ex: 0(0번째 카메라 장치)\n",
    "cap = cv2.VideoCapture(0)\n",
    "\n",
    "if not cap.isOpened():\n",
    "    exit()\n",
    "\n",
    "# 카메라는 영상 제한이 없기 때문에 무한반복 재생\n",
    "while True : \n",
    "    # ret(True, False), frame(영상 프레임)\n",
    "    ret, frame = cap.read()\n",
    "    if not ret: \n",
    "        print(\"더 이상 가져올 프레임이 없어요\")\n",
    "        break\n",
    "        \n",
    "    if cv2.waitKey(25) == ord(\"q\"):\n",
    "        print(\"사용자 입력에 의해 종료합니다.\")\n",
    "        break\n",
    "        \n",
    "cap.release()\n",
    "cv2.destroyAllWindows()"
   ]
  },
  {
   "cell_type": "code",
   "execution_count": null,
   "id": "da549278",
   "metadata": {},
   "outputs": [],
   "source": []
  }
 ],
 "metadata": {
  "kernelspec": {
   "display_name": "cv",
   "language": "python",
   "name": "cv"
  },
  "language_info": {
   "codemirror_mode": {
    "name": "ipython",
    "version": 3
   },
   "file_extension": ".py",
   "mimetype": "text/x-python",
   "name": "python",
   "nbconvert_exporter": "python",
   "pygments_lexer": "ipython3",
   "version": "3.8.17"
  }
 },
 "nbformat": 4,
 "nbformat_minor": 5
}
