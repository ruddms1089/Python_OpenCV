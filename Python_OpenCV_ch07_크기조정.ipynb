{
 "cells": [
  {
   "cell_type": "markdown",
   "id": "f11d3bfb",
   "metadata": {},
   "source": [
    "# 7. 크기 조정\n",
    "## 이미지\n",
    "\n",
    "```python\n",
    "# 이미지 크기 조절하는 함수\n",
    "#  - dsize: Manual Size(이미지의 절대적인 크기), 비율 사용할 때는 None\n",
    "#  - fx: 가로 비율\n",
    "#  - fy: 세로 비율\n",
    "#  - interpolation: 보간법 / INTER_CUBIC(사이즈 확대) / INTER_AREA(사이즈 축소)\n",
    "cv2.resize(image, dsize, fx, fy, interpolation)\n",
    "```"
   ]
  },
  {
   "cell_type": "code",
   "execution_count": 2,
   "id": "b1222219",
   "metadata": {},
   "outputs": [],
   "source": [
    "# 고정 크기로 설정\n",
    "import cv2\n",
    "img = cv2.imread(\"./data/dog.jpg\")\n",
    "dst = cv2.resize(img, (400, 500))\n",
    "\n",
    "cv2.imshow('img', img)\n",
    "cv2.imshow('resize', dst)\n",
    "cv2.waitKey(0)\n",
    "cv2.destroyAllWindows()"
   ]
  },
  {
   "cell_type": "code",
   "execution_count": 3,
   "id": "b825ca54",
   "metadata": {},
   "outputs": [],
   "source": [
    "# 비율로 설정 \n",
    "import cv2\n",
    "img = cv2.imread(\"./data/dog.jpg\")\n",
    "dst = cv2.resize(img, None, fx=0.5, fy=0.5)\n",
    "\n",
    "cv2.imshow('img', img)\n",
    "cv2.imshow('resize', dst)\n",
    "cv2.waitKey(0)\n",
    "cv2.destroyAllWindows()"
   ]
  },
  {
   "cell_type": "markdown",
   "id": "ba9f9bc6",
   "metadata": {},
   "source": [
    "보간법(interpolation): 사이즈가 변할 때 픽셀 사이의 값을 조절하는 방법을 의미\n",
    "\n",
    "- A픽셀과 B픽셀 사이를 늘리려고 했을 때\n",
    "- 중간값을 채울 수도 있고\n",
    "- 어떤분포를 넣어서 채울 수도 잇음\n",
    "\n",
    "1. cv2.INTER_AREA: 크기 줄일 때 사용\n",
    "2. cv2.INTER_CUBIC: 크기 늘릴 때 사용(속도 느림, 퀄리티 좋음)\n",
    "3. cv2.INTER_LINEAR: 크기 늘릴 때 사용(기본값)"
   ]
  },
  {
   "cell_type": "markdown",
   "id": "9bf27d23",
   "metadata": {},
   "source": [
    "딥러닝 모델에서 입력으로 이미지 또는 영상을 사용할 때 고정적인 크기를 사용해야 함\n",
    "-> 데이터를 항상 고정 크기로 전처리해서 사용\n",
    "   (resize() + interpolation)"
   ]
  },
  {
   "cell_type": "code",
   "execution_count": 4,
   "id": "cfdac14f",
   "metadata": {},
   "outputs": [],
   "source": [
    "import cv2\n",
    "img = cv2.imread(\"./data/dog.jpg\")\n",
    "dst = cv2.resize(img, None, fx=0.5, fy=0.5, interpolation=cv2.INTER_AREA)\n",
    "\n",
    "cv2.imshow('img', img)\n",
    "cv2.imshow('resize', dst)\n",
    "cv2.waitKey(0)\n",
    "cv2.destroyAllWindows()"
   ]
  },
  {
   "cell_type": "code",
   "execution_count": 5,
   "id": "2d100058",
   "metadata": {},
   "outputs": [],
   "source": [
    "import cv2\n",
    "img = cv2.imread(\"./data/dog.jpg\")\n",
    "dst = cv2.resize(img, None, fx=0.5, fy=0.5, interpolation=cv2.INTER_CUBIC)\n",
    "\n",
    "cv2.imshow('img', img)\n",
    "cv2.imshow('resize', dst)\n",
    "cv2.waitKey(0)\n",
    "cv2.destroyAllWindows()"
   ]
  },
  {
   "cell_type": "code",
   "execution_count": 8,
   "id": "b558ec6e",
   "metadata": {},
   "outputs": [],
   "source": [
    "import cv2\n",
    "cap = cv2.VideoCapture(\"./data/r.mp4\")\n",
    "\n",
    "while cap.isOpened():\n",
    "    ret, frame = cap.read()\n",
    "    if not ret:\n",
    "        break\n",
    "        \n",
    "    frame_resized = cv2.resize(frame, None, fx=1.5, fy=1.5, interpolation=cv2.INTER_CUBIC)\n",
    "    cv2.imshow(\"video\", frame_resized)\n",
    "    if cv2.waitKey(1) == ord(\"q\"):\n",
    "        break\n",
    "\n",
    "cap.release()\n",
    "cv2.destroyAllWindows()"
   ]
  },
  {
   "cell_type": "code",
   "execution_count": null,
   "id": "8c762c81",
   "metadata": {},
   "outputs": [],
   "source": []
  }
 ],
 "metadata": {
  "kernelspec": {
   "display_name": "cv",
   "language": "python",
   "name": "cv"
  },
  "language_info": {
   "codemirror_mode": {
    "name": "ipython",
    "version": 3
   },
   "file_extension": ".py",
   "mimetype": "text/x-python",
   "name": "python",
   "nbconvert_exporter": "python",
   "pygments_lexer": "ipython3",
   "version": "3.7.16"
  }
 },
 "nbformat": 4,
 "nbformat_minor": 5
}
