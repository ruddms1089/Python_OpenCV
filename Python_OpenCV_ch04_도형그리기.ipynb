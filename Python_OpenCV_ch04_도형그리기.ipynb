{
 "cells": [
  {
   "cell_type": "markdown",
   "id": "6a43758d",
   "metadata": {},
   "source": [
    "4. 도형 그리기  \n",
    "## 빈 스케치북 만들기\n",
    "\n",
    "np.zeros() > 배열을 생성하고, 0으로 채워라  \n",
    "np.ones() > 배열을 생성하고, 0으로 채워라\n",
    "\n",
    "uint8\n",
    " - int: 정수(음수. 0, 양수)\n",
    " - uint: 정수(0, 양수)\n",
    " - 8: 8bit > 0000 0010"
   ]
  },
  {
   "cell_type": "code",
   "execution_count": 8,
   "id": "9e8a7591",
   "metadata": {},
   "outputs": [],
   "source": [
    "import cv2\n",
    "import numpy as np\n",
    "\n",
    "img = np.zeros((480, 640, 3), dtype=np.uint8)\n",
    "\n",
    "img[:] = (0, 0, 0)\n",
    "\n",
    "cv2.imshow(\"img\", img)\n",
    "cv2.waitKey(0)\n",
    "cv2.destroyAllWindows()"
   ]
  },
  {
   "cell_type": "markdown",
   "id": "8e9da7cb",
   "metadata": {},
   "source": [
    "일부 영역 색칠"
   ]
  },
  {
   "cell_type": "code",
   "execution_count": 9,
   "id": "489d6ac1",
   "metadata": {},
   "outputs": [],
   "source": [
    "import cv2\n",
    "import numpy as np\n",
    "\n",
    "img[100:200, 200:300] = (255, 255, 0)\n",
    "\n",
    "cv2.imshow(\"img\", img)\n",
    "cv2.waitKey(0)\n",
    "cv2.destroyAllWindows()"
   ]
  },
  {
   "cell_type": "markdown",
   "id": "c3a16383",
   "metadata": {},
   "source": [
    "## 직선\n",
    "\n",
    "```python\n",
    "# 하나의 직선을 그리는 함수\n",
    "#  - start : 시작 좌표(2차원)\n",
    "#  - end : 종료 좌표(2차원)\n",
    "#  - thickness: 선의 두께\n",
    "#  - cv2.LINE_8: 선의 종류(기본)\n",
    "cv2.ilne(image, start, end, color, thickness, cv2.LINE_8)\n",
    "```\n",
    "\n",
    "직선의 종류(line type)\n",
    "1. cv2.LINE_8 : 상하좌우 4방향으로 연결된 선\n",
    "2. cv2.LINE_4 : 대각선을 포함한 8방향으로 연결된 선\n",
    "3. cv2.LINE_AA : 부드러운선(anti-aliacing)"
   ]
  },
  {
   "cell_type": "code",
   "execution_count": 18,
   "id": "ebddedd8",
   "metadata": {},
   "outputs": [],
   "source": [
    "import cv2\n",
    "import numpy as np\n",
    "\n",
    "img = np.zeros((480, 640, 3), dtype=np.uint8)\n",
    "\n",
    "COLOR = (0, 255, 255) # BGR : Yellow\n",
    "THICHKNESS = 3 # 두께\n",
    "\n",
    "cv2.line(img, (50, 100), (400, 50), COLOR, THICHKNESS, cv2.LINE_8)\n",
    "cv2.line(img, (50, 200), (400, 150), COLOR, THICHKNESS, cv2.LINE_4)\n",
    "cv2.line(img, (50, 300), (400, 250), COLOR, THICHKNESS, cv2.LINE_AA)\n",
    "\n",
    "cv2.imshow(\"img\", img)\n",
    "cv2.waitKey(0)\n",
    "cv2.destroyAllWindows()"
   ]
  },
  {
   "cell_type": "markdown",
   "id": "17a8440b",
   "metadata": {},
   "source": [
    "원그리기"
   ]
  },
  {
   "cell_type": "code",
   "execution_count": 15,
   "id": "6c37b44b",
   "metadata": {},
   "outputs": [],
   "source": [
    "import cv2\n",
    "import numpy as np\n",
    "\n",
    "img = np.zeros((480, 640, 3), dtype=np.uint8)\n",
    "\n",
    "COLOR = (255, 0, 255) # BGR : Pink\n",
    "RADIUS = 50 # 반지름\n",
    "THICHKNESS = 10 # 두께\n",
    "#                 중심점,   반지름, 색상,  두께,       Type\n",
    "cv2.circle(img, (200, 100), RADIUS, COLOR, THICHKNESS, cv2.LINE_AA)\n",
    "cv2.circle(img, (400, 100), RADIUS, COLOR, cv2.FILLED, cv2.LINE_AA)\n",
    "\n",
    "cv2.imshow(\"img\", img)\n",
    "cv2.waitKey(0)\n",
    "cv2.destroyAllWindows()"
   ]
  },
  {
   "cell_type": "markdown",
   "id": "ced31080",
   "metadata": {},
   "source": [
    "사각형"
   ]
  },
  {
   "cell_type": "code",
   "execution_count": 17,
   "id": "bcfd5fce",
   "metadata": {},
   "outputs": [],
   "source": [
    "import cv2\n",
    "import numpy as np\n",
    "\n",
    "img = np.zeros((480, 640, 3), dtype=np.uint8)\n",
    "\n",
    "COLOR = (0, 255, 0) # BGR : Green\n",
    "THICHKNESS = 10 # 두께\n",
    "\n",
    "\n",
    "cv2.rectangle(img, (100, 100), (200, 200), COLOR, THICHKNESS)\n",
    "cv2.rectangle(img, (300, 100), (400, 300), COLOR, cv2.FILLED)\n",
    "\n",
    "cv2.imshow(\"img\", img)\n",
    "cv2.waitKey(0)\n",
    "cv2.destroyAllWindows()"
   ]
  },
  {
   "cell_type": "code",
   "execution_count": null,
   "id": "ba2ec198",
   "metadata": {},
   "outputs": [],
   "source": []
  }
 ],
 "metadata": {
  "kernelspec": {
   "display_name": "cv",
   "language": "python",
   "name": "cv"
  },
  "language_info": {
   "codemirror_mode": {
    "name": "ipython",
    "version": 3
   },
   "file_extension": ".py",
   "mimetype": "text/x-python",
   "name": "python",
   "nbconvert_exporter": "python",
   "pygments_lexer": "ipython3",
   "version": "3.8.17"
  }
 },
 "nbformat": 4,
 "nbformat_minor": 5
}
