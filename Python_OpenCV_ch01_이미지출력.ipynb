{
 "cells": [
  {
   "cell_type": "markdown",
   "id": "6fa21478",
   "metadata": {},
   "source": [
    "open cv(컴퓨터 비전)\n",
    "- 영상 처리와 컴퓨터 비전을 위한 오픈소스 라이브러리\n",
    "- c, c++ python 등에서 사용가능\n",
    "- 컴퓨터 색상 표현: RGB(RED, GREEN, BLUE)\n",
    "- 단점 : OpenCV는 BGR을 사용(ex: BGR2RGB)\n",
    "- 사용 예: 컬러 고양이 이미지(jpg) 읽기 > 흑백 이미지 변환 > 저장(png)"
   ]
  },
  {
   "cell_type": "markdown",
   "id": "a262a369",
   "metadata": {},
   "source": [
    "##환경 설정\n",
    "\n",
    "anconda prompt 에서 다음 명령 수행\n",
    "\n",
    "> conda crete -n cv python=3.8\n",
    "> pip install open-python\n",
    "> pip install jupyter notbook\n",
    "\n",
    "주피터 노트북 종료 후 실행\n",
    "> python -m ipykernel install —user —name cv —display-name cv"
   ]
  },
  {
   "cell_type": "code",
   "execution_count": null,
   "id": "73eb38cf",
   "metadata": {},
   "outputs": [],
   "source": [
    "import cv2\n",
    "cv2.__version__"
   ]
  },
  {
   "cell_type": "markdown",
   "id": "3b48bc6a",
   "metadata": {},
   "source": [
    "1. 이미지 출력  \n",
    "픽사베이에서 가져오기"
   ]
  },
  {
   "cell_type": "code",
   "execution_count": null,
   "id": "ef87cef5",
   "metadata": {},
   "outputs": [],
   "source": [
    "import cv2\n",
    "cv2.imread(\"./data/dog.jpg\")\n",
    "cv2.imshow(\"img\", img)\n",
    "\n",
    "num = cv2.waitKey(0)\n",
    "print(num)\n",
    "cv2.destroyAllWindows()"
   ]
  },
  {
   "cell_type": "markdown",
   "id": "67d4105a",
   "metadata": {},
   "source": [
    "Shape과  Type\n",
    "\n",
    "채널(channel)\n",
    " - 칼라: RGB > 3채널\n",
    " - 흑백: 흑백 > 1채널 \n",
    " - 모든 채널: 0~255값\n",
    " - 255: 흰색, 0: 검정색\n",
    "\n",
    "이미지: 배경색(햐얀색)"
   ]
  },
  {
   "cell_type": "code",
   "execution_count": null,
   "id": "1288a1f3",
   "metadata": {},
   "outputs": [],
   "source": [
    "import cv2\n",
    "img = cv2.imread(\"./data/dog.jpg\")\n",
    "\n",
    "print(type(img)) # Numpy Type\n",
    "print(img.shape) # 세로, 가로, 채널 "
   ]
  },
  {
   "cell_type": "markdown",
   "id": "01ac4f5c",
   "metadata": {},
   "source": [
    "읽기 옵션\n",
    "\n",
    "1. cv2.IMREAD_COLOR : 컬러이미지, 투명 영역은 무시(기본값)\n",
    "2. cv2.IMREAD_GRAUsCALE : 흑백이미지\n",
    "3. cv2.IMREAD_UNCHANGET : 투명영역까지 포함\n",
    "\n",
    "RGBA : RED, GREEN, BLUE, ALPHA(투명도, 0.0~0.1) (255, 255, 255, 0.5) 반투명 하얀색\n"
   ]
  },
  {
   "cell_type": "code",
   "execution_count": null,
   "id": "3bbb291c",
   "metadata": {},
   "outputs": [],
   "source": [
    "import cv2\n",
    "\n",
    "img_color = cv2.imread(\"./data/dog.jpg\", cv2.IMREAD_COLOR)\n",
    "img_gray = cv2.imread(\"./data/dog.jpg\", cv2.IMREAD_GRAYSCALE)\n",
    "img_unchanged = cv2.imread(\"./data/dog.jpg\", cv2.IMREAD_UNCHANGED)\n",
    "\n",
    "print(f\"shape: color -> {img_color.shape}\")\n",
    "print(f\"shape: color -> {img_gray.shape}\")\n",
    "print(f\"shape: color -> {img_unchanged.shape}\")\n",
    "\n",
    "cv2.imshow(\"color\", img_color)\n",
    "cv2.imshow(\"gray\", img_gray)\n",
    "cv2.imshow(\"unchanged\", img_unchanged)\n",
    "\n",
    "cv2.waitKey(0)\n",
    "cv2.destroyAllWindows()"
   ]
  },
  {
   "cell_type": "markdown",
   "id": "31539f1b",
   "metadata": {},
   "source": [
    "MatPlotlib 라이브러리 사용해서 출력\n",
    "\n"
   ]
  },
  {
   "cell_type": "code",
   "execution_count": null,
   "id": "388edfa1",
   "metadata": {},
   "outputs": [],
   "source": [
    "import cv2\n",
    "import matplotlib.pyplot as plt\n",
    "\n",
    "img_color = cv2.imread(\"./data/dog.jpg\", cv2.IMREAD_COLOR)\n",
    "plt.imshow(cv2.cvtColor(img_color, cv2.COLOR_BGR2RGB))\n",
    "plt.show()\n",
    "\n",
    "img_gray = cv2.imread(\"./data/dog.jpg\", cv2.IMREAD_GRAYSCALE)\n",
    "plt.imshow(cv2.cvtColor(img_color, cv2.COLOR_BGR2RGB))\n",
    "plt.show()"
   ]
  },
  {
   "cell_type": "code",
   "execution_count": null,
   "id": "92223acd",
   "metadata": {},
   "outputs": [],
   "source": []
  },
  {
   "cell_type": "code",
   "execution_count": null,
   "id": "ef1c0038",
   "metadata": {},
   "outputs": [],
   "source": []
  },
  {
   "cell_type": "code",
   "execution_count": null,
   "id": "ed6e40fb",
   "metadata": {},
   "outputs": [],
   "source": []
  }
 ],
 "metadata": {
  "kernelspec": {
   "display_name": "cv",
   "language": "python",
   "name": "cv"
  },
  "language_info": {
   "codemirror_mode": {
    "name": "ipython",
    "version": 3
   },
   "file_extension": ".py",
   "mimetype": "text/x-python",
   "name": "python",
   "nbconvert_exporter": "python",
   "pygments_lexer": "ipython3",
   "version": "3.8.17"
  }
 },
 "nbformat": 4,
 "nbformat_minor": 5
}
