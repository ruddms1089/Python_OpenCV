{
 "cells": [
  {
   "cell_type": "markdown",
   "id": "9d52e838",
   "metadata": {},
   "source": [
    "# 5. 텍스트\n",
    "```python\n",
    "# 하나의 텍스트를 그리는 함수\n",
    "#  - position: 텍스트가 출력될 위치\n",
    "#  - font_type: 글씨체\n",
    "#  - font_scale: 글씨 크기 가중치\n",
    "cv2.putText(image, text, position, font_type, font_scale, color)\n",
    "```\n",
    "\n",
    "글꼴 종류\n",
    "1. cv2.FONT_HERSHEY_SIMPLEX: 보통 크기의 산 세리프 글꼴\n",
    "2. cv2.FONT_HERSHEY_SIMPLEX: 보통 크기의 산 세리프 글꼴\n",
    "3. cv2.FONT_HERSHEY_SIMPLEX: 보통 크기의 산 세리프 글꼴\n",
    "4. cv2.FONT_HERSHEY_SIMPLEX: 보통 크기의 산 세리프 글꼴\n",
    "5. cv2.FONT_HERSHEY_i: 보통 크기의 산 세리프 글꼴\n"
   ]
  },
  {
   "cell_type": "code",
   "execution_count": 1,
   "id": "f6145f32",
   "metadata": {},
   "outputs": [],
   "source": [
    "import numpy as np\n",
    "import cv2\n",
    "\n",
    "img=np.zeros((480, 640, 3), dtype=np.uint8)\n",
    "\n",
    "SCALE=1\n",
    "COLOR=(255,255,255)\n",
    "THICKNESS=1\n",
    "\n",
    "cv2.putText(img, \"Nado Simple\", (20, 50), cv2.FONT_HERSHEY_SIMPLEX, SCALE, COLOR)\n",
    "\n",
    "cv2.imshow(\"img\", img)\n",
    "cv2.waitKey(0)\n",
    "cv2.destroyAllWindows()"
   ]
  },
  {
   "cell_type": "code",
   "execution_count": null,
   "id": "3795c332",
   "metadata": {},
   "outputs": [],
   "source": []
  }
 ],
 "metadata": {
  "kernelspec": {
   "display_name": "cv",
   "language": "python",
   "name": "cv"
  },
  "language_info": {
   "codemirror_mode": {
    "name": "ipython",
    "version": 3
   },
   "file_extension": ".py",
   "mimetype": "text/x-python",
   "name": "python",
   "nbconvert_exporter": "python",
   "pygments_lexer": "ipython3",
   "version": "3.8.17"
  }
 },
 "nbformat": 4,
 "nbformat_minor": 5
}
